{
 "cells": [
  {
   "cell_type": "code",
   "execution_count": 1,
   "metadata": {},
   "outputs": [],
   "source": [
    "import torch\n",
    "from architecture import ActorCriticNetwork\n",
    "\n",
    "input_dim = 6\n",
    "action_dim = 4\n",
    "network = ActorCriticNetwork(input_dim, action_dim)"
   ]
  },
  {
   "cell_type": "code",
   "execution_count": 2,
   "metadata": {},
   "outputs": [
    {
     "name": "stdout",
     "output_type": "stream",
     "text": [
      "Action output: tensor([[ 0.1388, -0.0305,  0.1289,  0.0679]], grad_fn=<TanhBackward0>)\n",
      "Value output: tensor([[-0.1371]], grad_fn=<AddmmBackward0>)\n"
     ]
    }
   ],
   "source": [
    "test_observation = torch.rand((1, input_dim))\n",
    "\n",
    "action, value = network(test_observation)\n",
    "\n",
    "print(\"Action output:\", action)\n",
    "print(\"Value output:\", value)"
   ]
  },
  {
   "cell_type": "code",
   "execution_count": 3,
   "metadata": {},
   "outputs": [
    {
     "name": "stdout",
     "output_type": "stream",
     "text": [
      "Action: tensor([[ 0.1200, -0.0683,  0.1498,  0.0756]], grad_fn=<TanhBackward0>)\n",
      "Value: tensor([[-0.0907]], grad_fn=<AddmmBackward0>)\n",
      "Action: tensor([[ 0.1082, -0.0317,  0.0785,  0.0881]], grad_fn=<TanhBackward0>)\n",
      "Value: tensor([[-0.0828]], grad_fn=<AddmmBackward0>)\n",
      "Action: tensor([[0.1488, 0.0244, 0.1482, 0.0701]], grad_fn=<TanhBackward0>)\n",
      "Value: tensor([[-0.1537]], grad_fn=<AddmmBackward0>)\n",
      "Action: tensor([[0.1367, 0.0360, 0.1336, 0.0206]], grad_fn=<TanhBackward0>)\n",
      "Value: tensor([[-0.1731]], grad_fn=<AddmmBackward0>)\n",
      "Action: tensor([[0.1486, 0.0226, 0.1139, 0.0919]], grad_fn=<TanhBackward0>)\n",
      "Value: tensor([[-0.1192]], grad_fn=<AddmmBackward0>)\n"
     ]
    }
   ],
   "source": [
    "for _ in range(5):\n",
    "    test_observation = torch.rand((1, input_dim))\n",
    "    action, value = network(test_observation)\n",
    "    print(\"Action:\", action)\n",
    "    print(\"Value:\", value)"
   ]
  }
 ],
 "metadata": {
  "kernelspec": {
   "display_name": "project_venv",
   "language": "python",
   "name": "python3"
  },
  "language_info": {
   "codemirror_mode": {
    "name": "ipython",
    "version": 3
   },
   "file_extension": ".py",
   "mimetype": "text/x-python",
   "name": "python",
   "nbconvert_exporter": "python",
   "pygments_lexer": "ipython3",
   "version": "3.12.6"
  }
 },
 "nbformat": 4,
 "nbformat_minor": 2
}
